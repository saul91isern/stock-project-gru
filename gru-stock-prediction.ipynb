{
 "cells": [
  {
   "cell_type": "code",
   "execution_count": 1,
   "metadata": {},
   "outputs": [],
   "source": [
    "import pandas as pd\n",
    "import numpy as np\n",
    "from sklearn import preprocessing\n",
    "from tensorflow.keras.layers import Activation, Dense, Dropout, Embedding, LSTM, GRU\n",
    "from tensorflow.keras.models import load_model, Sequential\n",
    "import matplotlib.pyplot as plt\n",
    "import math\n",
    "import joblib"
   ]
  },
  {
   "cell_type": "code",
   "execution_count": 2,
   "metadata": {},
   "outputs": [
    {
     "data": {
      "text/html": [
       "<div>\n",
       "<style scoped>\n",
       "    .dataframe tbody tr th:only-of-type {\n",
       "        vertical-align: middle;\n",
       "    }\n",
       "\n",
       "    .dataframe tbody tr th {\n",
       "        vertical-align: top;\n",
       "    }\n",
       "\n",
       "    .dataframe thead th {\n",
       "        text-align: right;\n",
       "    }\n",
       "</style>\n",
       "<table border=\"1\" class=\"dataframe\">\n",
       "  <thead>\n",
       "    <tr style=\"text-align: right;\">\n",
       "      <th></th>\n",
       "      <th>symbol</th>\n",
       "      <th>open</th>\n",
       "      <th>close</th>\n",
       "      <th>low</th>\n",
       "      <th>high</th>\n",
       "      <th>volume</th>\n",
       "    </tr>\n",
       "    <tr>\n",
       "      <th>date</th>\n",
       "      <th></th>\n",
       "      <th></th>\n",
       "      <th></th>\n",
       "      <th></th>\n",
       "      <th></th>\n",
       "      <th></th>\n",
       "    </tr>\n",
       "  </thead>\n",
       "  <tbody>\n",
       "    <tr>\n",
       "      <th>2016-01-05</th>\n",
       "      <td>WLTW</td>\n",
       "      <td>123.430000</td>\n",
       "      <td>125.839996</td>\n",
       "      <td>122.309998</td>\n",
       "      <td>126.250000</td>\n",
       "      <td>2163600.0</td>\n",
       "    </tr>\n",
       "    <tr>\n",
       "      <th>2016-01-06</th>\n",
       "      <td>WLTW</td>\n",
       "      <td>125.239998</td>\n",
       "      <td>119.980003</td>\n",
       "      <td>119.940002</td>\n",
       "      <td>125.540001</td>\n",
       "      <td>2386400.0</td>\n",
       "    </tr>\n",
       "    <tr>\n",
       "      <th>2016-01-07</th>\n",
       "      <td>WLTW</td>\n",
       "      <td>116.379997</td>\n",
       "      <td>114.949997</td>\n",
       "      <td>114.930000</td>\n",
       "      <td>119.739998</td>\n",
       "      <td>2489500.0</td>\n",
       "    </tr>\n",
       "    <tr>\n",
       "      <th>2016-01-08</th>\n",
       "      <td>WLTW</td>\n",
       "      <td>115.480003</td>\n",
       "      <td>116.620003</td>\n",
       "      <td>113.500000</td>\n",
       "      <td>117.440002</td>\n",
       "      <td>2006300.0</td>\n",
       "    </tr>\n",
       "    <tr>\n",
       "      <th>2016-01-11</th>\n",
       "      <td>WLTW</td>\n",
       "      <td>117.010002</td>\n",
       "      <td>114.970001</td>\n",
       "      <td>114.089996</td>\n",
       "      <td>117.330002</td>\n",
       "      <td>1408600.0</td>\n",
       "    </tr>\n",
       "  </tbody>\n",
       "</table>\n",
       "</div>"
      ],
      "text/plain": [
       "           symbol        open       close         low        high     volume\n",
       "date                                                                        \n",
       "2016-01-05   WLTW  123.430000  125.839996  122.309998  126.250000  2163600.0\n",
       "2016-01-06   WLTW  125.239998  119.980003  119.940002  125.540001  2386400.0\n",
       "2016-01-07   WLTW  116.379997  114.949997  114.930000  119.739998  2489500.0\n",
       "2016-01-08   WLTW  115.480003  116.620003  113.500000  117.440002  2006300.0\n",
       "2016-01-11   WLTW  117.010002  114.970001  114.089996  117.330002  1408600.0"
      ]
     },
     "execution_count": 2,
     "metadata": {},
     "output_type": "execute_result"
    }
   ],
   "source": [
    "df = pd.read_csv(\"./data/prices-split-adjusted.csv\", index_col = 0)\n",
    "df.head()"
   ]
  },
  {
   "cell_type": "code",
   "execution_count": 3,
   "metadata": {},
   "outputs": [
    {
     "data": {
      "text/html": [
       "<div>\n",
       "<style scoped>\n",
       "    .dataframe tbody tr th:only-of-type {\n",
       "        vertical-align: middle;\n",
       "    }\n",
       "\n",
       "    .dataframe tbody tr th {\n",
       "        vertical-align: top;\n",
       "    }\n",
       "\n",
       "    .dataframe thead th {\n",
       "        text-align: right;\n",
       "    }\n",
       "</style>\n",
       "<table border=\"1\" class=\"dataframe\">\n",
       "  <thead>\n",
       "    <tr style=\"text-align: right;\">\n",
       "      <th></th>\n",
       "      <th>open</th>\n",
       "      <th>close</th>\n",
       "      <th>low</th>\n",
       "      <th>high</th>\n",
       "      <th>volume</th>\n",
       "    </tr>\n",
       "  </thead>\n",
       "  <tbody>\n",
       "    <tr>\n",
       "      <th>count</th>\n",
       "      <td>851264.000000</td>\n",
       "      <td>851264.000000</td>\n",
       "      <td>851264.000000</td>\n",
       "      <td>851264.000000</td>\n",
       "      <td>8.512640e+05</td>\n",
       "    </tr>\n",
       "    <tr>\n",
       "      <th>mean</th>\n",
       "      <td>64.993618</td>\n",
       "      <td>65.011913</td>\n",
       "      <td>64.336541</td>\n",
       "      <td>65.639748</td>\n",
       "      <td>5.415113e+06</td>\n",
       "    </tr>\n",
       "    <tr>\n",
       "      <th>std</th>\n",
       "      <td>75.203893</td>\n",
       "      <td>75.201216</td>\n",
       "      <td>74.459518</td>\n",
       "      <td>75.906861</td>\n",
       "      <td>1.249468e+07</td>\n",
       "    </tr>\n",
       "    <tr>\n",
       "      <th>min</th>\n",
       "      <td>1.660000</td>\n",
       "      <td>1.590000</td>\n",
       "      <td>1.500000</td>\n",
       "      <td>1.810000</td>\n",
       "      <td>0.000000e+00</td>\n",
       "    </tr>\n",
       "    <tr>\n",
       "      <th>25%</th>\n",
       "      <td>31.270000</td>\n",
       "      <td>31.292776</td>\n",
       "      <td>30.940001</td>\n",
       "      <td>31.620001</td>\n",
       "      <td>1.221500e+06</td>\n",
       "    </tr>\n",
       "    <tr>\n",
       "      <th>50%</th>\n",
       "      <td>48.459999</td>\n",
       "      <td>48.480000</td>\n",
       "      <td>47.970001</td>\n",
       "      <td>48.959999</td>\n",
       "      <td>2.476250e+06</td>\n",
       "    </tr>\n",
       "    <tr>\n",
       "      <th>75%</th>\n",
       "      <td>75.120003</td>\n",
       "      <td>75.139999</td>\n",
       "      <td>74.400002</td>\n",
       "      <td>75.849998</td>\n",
       "      <td>5.222500e+06</td>\n",
       "    </tr>\n",
       "    <tr>\n",
       "      <th>max</th>\n",
       "      <td>1584.439941</td>\n",
       "      <td>1578.130005</td>\n",
       "      <td>1549.939941</td>\n",
       "      <td>1600.930054</td>\n",
       "      <td>8.596434e+08</td>\n",
       "    </tr>\n",
       "  </tbody>\n",
       "</table>\n",
       "</div>"
      ],
      "text/plain": [
       "                open          close            low           high  \\\n",
       "count  851264.000000  851264.000000  851264.000000  851264.000000   \n",
       "mean       64.993618      65.011913      64.336541      65.639748   \n",
       "std        75.203893      75.201216      74.459518      75.906861   \n",
       "min         1.660000       1.590000       1.500000       1.810000   \n",
       "25%        31.270000      31.292776      30.940001      31.620001   \n",
       "50%        48.459999      48.480000      47.970001      48.959999   \n",
       "75%        75.120003      75.139999      74.400002      75.849998   \n",
       "max      1584.439941    1578.130005    1549.939941    1600.930054   \n",
       "\n",
       "             volume  \n",
       "count  8.512640e+05  \n",
       "mean   5.415113e+06  \n",
       "std    1.249468e+07  \n",
       "min    0.000000e+00  \n",
       "25%    1.221500e+06  \n",
       "50%    2.476250e+06  \n",
       "75%    5.222500e+06  \n",
       "max    8.596434e+08  "
      ]
     },
     "execution_count": 3,
     "metadata": {},
     "output_type": "execute_result"
    }
   ],
   "source": [
    "df.describe()"
   ]
  },
  {
   "cell_type": "code",
   "execution_count": 4,
   "metadata": {},
   "outputs": [],
   "source": [
    "df = df[df[\"symbol\"] == \"AMZN\"]\n",
    "df.drop([\"symbol\"], 1, inplace = True)\n",
    "\n",
    "df[\"adj_close\"] = df.close\n",
    "df.drop([\"close\"], 1, inplace=True)"
   ]
  },
  {
   "cell_type": "code",
   "execution_count": 5,
   "metadata": {},
   "outputs": [
    {
     "data": {
      "text/html": [
       "<div>\n",
       "<style scoped>\n",
       "    .dataframe tbody tr th:only-of-type {\n",
       "        vertical-align: middle;\n",
       "    }\n",
       "\n",
       "    .dataframe tbody tr th {\n",
       "        vertical-align: top;\n",
       "    }\n",
       "\n",
       "    .dataframe thead th {\n",
       "        text-align: right;\n",
       "    }\n",
       "</style>\n",
       "<table border=\"1\" class=\"dataframe\">\n",
       "  <thead>\n",
       "    <tr style=\"text-align: right;\">\n",
       "      <th></th>\n",
       "      <th>open</th>\n",
       "      <th>low</th>\n",
       "      <th>high</th>\n",
       "      <th>volume</th>\n",
       "      <th>adj_close</th>\n",
       "    </tr>\n",
       "    <tr>\n",
       "      <th>date</th>\n",
       "      <th></th>\n",
       "      <th></th>\n",
       "      <th></th>\n",
       "      <th></th>\n",
       "      <th></th>\n",
       "    </tr>\n",
       "  </thead>\n",
       "  <tbody>\n",
       "    <tr>\n",
       "      <th>2010-01-04</th>\n",
       "      <td>136.250000</td>\n",
       "      <td>133.139999</td>\n",
       "      <td>136.610001</td>\n",
       "      <td>7599900.0</td>\n",
       "      <td>133.899994</td>\n",
       "    </tr>\n",
       "    <tr>\n",
       "      <th>2010-01-05</th>\n",
       "      <td>133.429993</td>\n",
       "      <td>131.809998</td>\n",
       "      <td>135.479996</td>\n",
       "      <td>8851900.0</td>\n",
       "      <td>134.690002</td>\n",
       "    </tr>\n",
       "    <tr>\n",
       "      <th>2010-01-06</th>\n",
       "      <td>134.600006</td>\n",
       "      <td>131.649994</td>\n",
       "      <td>134.729996</td>\n",
       "      <td>7178800.0</td>\n",
       "      <td>132.250000</td>\n",
       "    </tr>\n",
       "    <tr>\n",
       "      <th>2010-01-07</th>\n",
       "      <td>132.009995</td>\n",
       "      <td>128.800003</td>\n",
       "      <td>132.320007</td>\n",
       "      <td>11030200.0</td>\n",
       "      <td>130.000000</td>\n",
       "    </tr>\n",
       "    <tr>\n",
       "      <th>2010-01-08</th>\n",
       "      <td>130.559998</td>\n",
       "      <td>129.029999</td>\n",
       "      <td>133.679993</td>\n",
       "      <td>9830500.0</td>\n",
       "      <td>133.520004</td>\n",
       "    </tr>\n",
       "  </tbody>\n",
       "</table>\n",
       "</div>"
      ],
      "text/plain": [
       "                  open         low        high      volume   adj_close\n",
       "date                                                                  \n",
       "2010-01-04  136.250000  133.139999  136.610001   7599900.0  133.899994\n",
       "2010-01-05  133.429993  131.809998  135.479996   8851900.0  134.690002\n",
       "2010-01-06  134.600006  131.649994  134.729996   7178800.0  132.250000\n",
       "2010-01-07  132.009995  128.800003  132.320007  11030200.0  130.000000\n",
       "2010-01-08  130.559998  129.029999  133.679993   9830500.0  133.520004"
      ]
     },
     "execution_count": 5,
     "metadata": {},
     "output_type": "execute_result"
    }
   ],
   "source": [
    "df.head()"
   ]
  },
  {
   "cell_type": "code",
   "execution_count": 6,
   "metadata": {},
   "outputs": [],
   "source": [
    "def plot_variables(data):\n",
    "    plt.figure(figsize=(15, 5));\n",
    "    plt.subplot(1,2,1);\n",
    "    plt.plot(data.open.values, color='red', label='open')\n",
    "    plt.plot(data.adj_close.values, color='green', label='close')\n",
    "    plt.plot(data.low.values, color='blue', label='low')\n",
    "    plt.plot(data.high.values, color='black', label='high')\n",
    "    plt.title('Price')\n",
    "    plt.xlabel('Time [days]')\n",
    "    plt.ylabel('Price')\n",
    "    plt.legend(loc='best')"
   ]
  },
  {
   "cell_type": "code",
   "execution_count": 7,
   "metadata": {},
   "outputs": [
    {
     "data": {
      "image/png": "[encoded data removed]",
      "text/plain": [
       "<Figure size 1080x360 with 1 Axes>"
      ]
     },
     "metadata": {
      "needs_background": "light"
     },
     "output_type": "display_data"
    }
   ],
   "source": [
    "plot_variables(df)"
   ]
  },
  {
   "cell_type": "code",
   "execution_count": 8,
   "metadata": {},
   "outputs": [],
   "source": [
    "def stationary_data(data, columns):\n",
    "    satationary_df = data.copy()\n",
    "    \n",
    "    for column in columns:\n",
    "        satationary_df[column] = np.log(satationary_df[column]) - np.log(satationary_df[column]).shift(1)\n",
    "\n",
    "    satationary_df.dropna()\n",
    "    \n",
    "    return satationary_df"
   ]
  },
  {
   "cell_type": "code",
   "execution_count": 9,
   "metadata": {},
   "outputs": [
    {
     "data": {
      "text/html": [
       "<div>\n",
       "<style scoped>\n",
       "    .dataframe tbody tr th:only-of-type {\n",
       "        vertical-align: middle;\n",
       "    }\n",
       "\n",
       "    .dataframe tbody tr th {\n",
       "        vertical-align: top;\n",
       "    }\n",
       "\n",
       "    .dataframe thead th {\n",
       "        text-align: right;\n",
       "    }\n",
       "</style>\n",
       "<table border=\"1\" class=\"dataframe\">\n",
       "  <thead>\n",
       "    <tr style=\"text-align: right;\">\n",
       "      <th></th>\n",
       "      <th>open</th>\n",
       "      <th>low</th>\n",
       "      <th>high</th>\n",
       "      <th>volume</th>\n",
       "      <th>adj_close</th>\n",
       "    </tr>\n",
       "  </thead>\n",
       "  <tbody>\n",
       "    <tr>\n",
       "      <th>count</th>\n",
       "      <td>1761.000000</td>\n",
       "      <td>1761.000000</td>\n",
       "      <td>1761.000000</td>\n",
       "      <td>1761.000000</td>\n",
       "      <td>1761.000000</td>\n",
       "    </tr>\n",
       "    <tr>\n",
       "      <th>mean</th>\n",
       "      <td>0.000981</td>\n",
       "      <td>0.000980</td>\n",
       "      <td>0.000980</td>\n",
       "      <td>-0.000347</td>\n",
       "      <td>0.000978</td>\n",
       "    </tr>\n",
       "    <tr>\n",
       "      <th>std</th>\n",
       "      <td>0.020432</td>\n",
       "      <td>0.019296</td>\n",
       "      <td>0.018137</td>\n",
       "      <td>0.375122</td>\n",
       "      <td>0.020324</td>\n",
       "    </tr>\n",
       "    <tr>\n",
       "      <th>min</th>\n",
       "      <td>-0.158147</td>\n",
       "      <td>-0.139335</td>\n",
       "      <td>-0.140989</td>\n",
       "      <td>-1.564264</td>\n",
       "      <td>-0.135325</td>\n",
       "    </tr>\n",
       "    <tr>\n",
       "      <th>25%</th>\n",
       "      <td>-0.008883</td>\n",
       "      <td>-0.007533</td>\n",
       "      <td>-0.007383</td>\n",
       "      <td>-0.231667</td>\n",
       "      <td>-0.009201</td>\n",
       "    </tr>\n",
       "    <tr>\n",
       "      <th>50%</th>\n",
       "      <td>0.000782</td>\n",
       "      <td>0.001515</td>\n",
       "      <td>0.000162</td>\n",
       "      <td>-0.027677</td>\n",
       "      <td>0.000577</td>\n",
       "    </tr>\n",
       "    <tr>\n",
       "      <th>75%</th>\n",
       "      <td>0.011384</td>\n",
       "      <td>0.009653</td>\n",
       "      <td>0.008987</td>\n",
       "      <td>0.206599</td>\n",
       "      <td>0.012175</td>\n",
       "    </tr>\n",
       "    <tr>\n",
       "      <th>max</th>\n",
       "      <td>0.163498</td>\n",
       "      <td>0.131833</td>\n",
       "      <td>0.166223</td>\n",
       "      <td>1.439482</td>\n",
       "      <td>0.146225</td>\n",
       "    </tr>\n",
       "  </tbody>\n",
       "</table>\n",
       "</div>"
      ],
      "text/plain": [
       "              open          low         high       volume    adj_close\n",
       "count  1761.000000  1761.000000  1761.000000  1761.000000  1761.000000\n",
       "mean      0.000981     0.000980     0.000980    -0.000347     0.000978\n",
       "std       0.020432     0.019296     0.018137     0.375122     0.020324\n",
       "min      -0.158147    -0.139335    -0.140989    -1.564264    -0.135325\n",
       "25%      -0.008883    -0.007533    -0.007383    -0.231667    -0.009201\n",
       "50%       0.000782     0.001515     0.000162    -0.027677     0.000577\n",
       "75%       0.011384     0.009653     0.008987     0.206599     0.012175\n",
       "max       0.163498     0.131833     0.166223     1.439482     0.146225"
      ]
     },
     "execution_count": 9,
     "metadata": {},
     "output_type": "execute_result"
    }
   ],
   "source": [
    "satationary_df = stationary_data(df, [\"open\", \"adj_close\", \"low\", \"high\", \"volume\"])\n",
    "satationary_df.describe()"
   ]
  },
  {
   "cell_type": "code",
   "execution_count": 10,
   "metadata": {},
   "outputs": [
    {
     "data": {
      "image/png": "[encoded data removed]",
      "text/plain": [
       "<Figure size 1080x360 with 1 Axes>"
      ]
     },
     "metadata": {
      "needs_background": "light"
     },
     "output_type": "display_data"
    }
   ],
   "source": [
    "plot_variables(satationary_df)"
   ]
  },
  {
   "cell_type": "code",
   "execution_count": 11,
   "metadata": {},
   "outputs": [],
   "source": [
    "def split_data(data):\n",
    "    total_length = len(data)\n",
    "    train_index = round(0.8 * total_length)\n",
    "    \n",
    "    train = data[:int(train_index), :]\n",
    "    test = data[int(train_index):, :]\n",
    "    \n",
    "    return train, test"
   ]
  },
  {
   "cell_type": "code",
   "execution_count": 12,
   "metadata": {},
   "outputs": [],
   "source": [
    "def normalize_data(train, test):\n",
    "    min_max_scaler = preprocessing.MinMaxScaler(feature_range=(-1, 1))\n",
    "    train = min_max_scaler.fit_transform(train)\n",
    "    test = min_max_scaler.transform(test)\n",
    "    joblib.dump(min_max_scaler, \"./data/min_max_scaler.pkl\")\n",
    "    \n",
    "    return train, test"
   ]
  },
  {
   "cell_type": "code",
   "execution_count": 13,
   "metadata": {},
   "outputs": [],
   "source": [
    "def formate_data(data, amount_of_features, seq_len):\n",
    "    sequence_length = seq_len + 1 # index starting from 0\n",
    "    result = []\n",
    "    \n",
    "    for index in range(len(data) - sequence_length): \n",
    "        result.append(data[index: index + sequence_length])\n",
    "    \n",
    "    result = np.array(result)\n",
    "    \n",
    "    x = result[:, :-1] \n",
    "    x = np.reshape(x, (x.shape[0], x.shape[1], amount_of_features))\n",
    "    y = result[:, -1][:,-1] \n",
    "\n",
    "    return x, y"
   ]
  },
  {
   "cell_type": "code",
   "execution_count": 14,
   "metadata": {},
   "outputs": [
    {
     "name": "stdout",
     "output_type": "stream",
     "text": [
      "Train set examples (x):  1379\n",
      "Train set examples (y):  1379\n",
      "Test set examples (x):  321\n",
      "Test set examples (y):  321\n"
     ]
    }
   ],
   "source": [
    "amount_of_features = len(df.columns)\n",
    "seq_len = 30\n",
    "\n",
    "train, test = split_data(df.values)\n",
    "train, test = normalize_data(train, test)\n",
    "\n",
    "x_train, y_train = formate_data(train, amount_of_features, seq_len)\n",
    "x_test, y_test = formate_data(test, amount_of_features, seq_len)\n",
    "\n",
    "print(\"Train set examples (x): \", x_train.shape[0])\n",
    "print(\"Train set examples (y): \", y_train.shape[0])\n",
    "\n",
    "print(\"Test set examples (x): \", x_test.shape[0])\n",
    "print(\"Test set examples (y): \", y_test.shape[0])\n"
   ]
  },
  {
   "cell_type": "code",
   "execution_count": 30,
   "metadata": {},
   "outputs": [],
   "source": [
    "def build_gru_model(amount_of_features, seq_len):\n",
    "        \n",
    "    model = Sequential()\n",
    "\n",
    "    model.add(GRU(\n",
    "        units=256,\n",
    "        activation=\"tanh\",\n",
    "        return_sequences=True,\n",
    "        dropout=0.2,\n",
    "        input_shape=(seq_len, amount_of_features)\n",
    "        )\n",
    "    )\n",
    "\n",
    "    model.add(GRU(\n",
    "        units=256,\n",
    "        activation=\"tanh\",\n",
    "        return_sequences=False,\n",
    "        dropout=0.2\n",
    "        )\n",
    "    )\n",
    "\n",
    "    model.add(Dense(64, activation=\"relu\"))\n",
    "    model.add(Dense(1, activation=\"linear\"))\n",
    "\n",
    "    model.summary()\n",
    "\n",
    "    model.compile(\n",
    "        optimizer=\"Nadam\",\n",
    "        loss=\"mse\"\n",
    "    )\n",
    "\n",
    "    return model"
   ]
  },
  {
   "cell_type": "code",
   "execution_count": 31,
   "metadata": {},
   "outputs": [
    {
     "name": "stdout",
     "output_type": "stream",
     "text": [
      "_________________________________________________________________\n",
      "Layer (type)                 Output Shape              Param #   \n",
      "=================================================================\n",
      "gru_2 (GRU)                  (None, 30, 256)           201216    \n",
      "_________________________________________________________________\n",
      "gru_3 (GRU)                  (None, 256)               393984    \n",
      "_________________________________________________________________\n",
      "dense_2 (Dense)              (None, 64)                16448     \n",
      "_________________________________________________________________\n",
      "dense_3 (Dense)              (None, 1)                 65        \n",
      "=================================================================\n",
      "Total params: 611,713\n",
      "Trainable params: 611,713\n",
      "Non-trainable params: 0\n",
      "_________________________________________________________________\n"
     ]
    }
   ],
   "source": [
    "model = build_gru_model(amount_of_features, seq_len)"
   ]
  },
  {
   "cell_type": "code",
   "execution_count": 32,
   "metadata": {},
   "outputs": [],
   "source": [
    "def train_model(\n",
    "    model, \n",
    "    x_train, \n",
    "    y_train,\n",
    "    batch_size,\n",
    "    epochs, \n",
    "    path\n",
    "):\n",
    "    \n",
    "    history = model.fit(\n",
    "        x=x_train, \n",
    "        y=y_train,\n",
    "        batch_size=batch_size,\n",
    "        epochs=epochs,\n",
    "        validation_split=0.1,\n",
    "        shuffle=False\n",
    "    )\n",
    "    # Once finished the training the model it will be saved and we will delete\n",
    "    # the class attribute from memory.\n",
    "    model.save(path)\n",
    "    del model\n",
    "\n",
    "    return history"
   ]
  },
  {
   "cell_type": "code",
   "execution_count": 33,
   "metadata": {},
   "outputs": [],
   "source": [
    "epochs = 80\n",
    "batch_size = 512"
   ]
  },
  {
   "cell_type": "code",
   "execution_count": 34,
   "metadata": {},
   "outputs": [
    {
     "name": "stdout",
     "output_type": "stream",
     "text": [
      "Train on 1241 samples, validate on 138 samples\n",
      "Epoch 1/80\n",
      "1241/1241 [==============================] - 20s 16ms/sample - loss: 0.2576 - val_loss: 0.0056\n",
      "Epoch 2/80\n",
      "1241/1241 [==============================] - 8s 7ms/sample - loss: 0.1115 - val_loss: 0.0486\n",
      "Epoch 3/80\n",
      "1241/1241 [==============================] - 8s 7ms/sample - loss: 0.0483 - val_loss: 0.0051\n",
      "Epoch 4/80\n",
      "1241/1241 [==============================] - 8s 6ms/sample - loss: 0.0184 - val_loss: 0.0070\n",
      "Epoch 5/80\n",
      "1241/1241 [==============================] - 8s 6ms/sample - loss: 0.0191 - val_loss: 0.0067\n",
      "Epoch 6/80\n",
      "1241/1241 [==============================] - 8s 7ms/sample - loss: 0.0144 - val_loss: 0.0058\n",
      "Epoch 7/80\n",
      "1241/1241 [==============================] - 8s 6ms/sample - loss: 0.0170 - val_loss: 0.0056\n",
      "Epoch 8/80\n",
      "1241/1241 [==============================] - 8s 6ms/sample - loss: 0.0132 - val_loss: 0.0047\n",
      "Epoch 9/80\n",
      "1241/1241 [==============================] - 8s 6ms/sample - loss: 0.0104 - val_loss: 0.0051\n",
      "Epoch 10/80\n",
      "1241/1241 [==============================] - 8s 6ms/sample - loss: 0.0086 - val_loss: 0.0042\n",
      "Epoch 11/80\n",
      "1241/1241 [==============================] - 9s 7ms/sample - loss: 0.0090 - val_loss: 0.0074\n",
      "Epoch 12/80\n",
      "1241/1241 [==============================] - 7s 6ms/sample - loss: 0.0082 - val_loss: 0.0046\n",
      "Epoch 13/80\n",
      "1241/1241 [==============================] - 8s 7ms/sample - loss: 0.0090 - val_loss: 0.0088\n",
      "Epoch 14/80\n",
      "1241/1241 [==============================] - 10s 8ms/sample - loss: 0.0062 - val_loss: 0.0047\n",
      "Epoch 15/80\n",
      "1241/1241 [==============================] - 9s 7ms/sample - loss: 0.0058 - val_loss: 0.0052\n",
      "Epoch 16/80\n",
      "1241/1241 [==============================] - 9s 7ms/sample - loss: 0.0052 - val_loss: 0.0042\n",
      "Epoch 17/80\n",
      "1241/1241 [==============================] - 8s 7ms/sample - loss: 0.0053 - val_loss: 0.0039\n",
      "Epoch 18/80\n",
      "1241/1241 [==============================] - 8s 6ms/sample - loss: 0.0053 - val_loss: 0.0054\n",
      "Epoch 19/80\n",
      "1241/1241 [==============================] - 7s 6ms/sample - loss: 0.0056 - val_loss: 0.0041\n",
      "Epoch 20/80\n",
      "1241/1241 [==============================] - 7s 6ms/sample - loss: 0.0055 - val_loss: 0.0043\n",
      "Epoch 21/80\n",
      "1241/1241 [==============================] - 7s 6ms/sample - loss: 0.0068 - val_loss: 0.0056\n",
      "Epoch 22/80\n",
      "1241/1241 [==============================] - 8s 7ms/sample - loss: 0.0056 - val_loss: 0.0103\n",
      "Epoch 23/80\n",
      "1241/1241 [==============================] - 8s 7ms/sample - loss: 0.0050 - val_loss: 0.0049\n",
      "Epoch 24/80\n",
      "1241/1241 [==============================] - 7s 5ms/sample - loss: 0.0057 - val_loss: 0.0036\n",
      "Epoch 25/80\n",
      "1241/1241 [==============================] - 10s 8ms/sample - loss: 0.0039 - val_loss: 0.0032\n",
      "Epoch 26/80\n",
      "1241/1241 [==============================] - 8s 7ms/sample - loss: 0.0048 - val_loss: 0.0033\n",
      "Epoch 27/80\n",
      "1241/1241 [==============================] - 8s 7ms/sample - loss: 0.0041 - val_loss: 0.0039\n",
      "Epoch 28/80\n",
      "1241/1241 [==============================] - 13s 11ms/sample - loss: 0.0035 - val_loss: 0.0102\n",
      "Epoch 29/80\n",
      "1241/1241 [==============================] - 11s 9ms/sample - loss: 0.0046 - val_loss: 0.0046\n",
      "Epoch 30/80\n",
      "1241/1241 [==============================] - 11s 8ms/sample - loss: 0.0039 - val_loss: 0.0035\n",
      "Epoch 31/80\n",
      "1241/1241 [==============================] - 9s 7ms/sample - loss: 0.0030 - val_loss: 0.0035\n",
      "Epoch 32/80\n",
      "1241/1241 [==============================] - 9s 7ms/sample - loss: 0.0029 - val_loss: 0.0054\n",
      "Epoch 33/80\n",
      "1241/1241 [==============================] - 9s 7ms/sample - loss: 0.0035 - val_loss: 0.0054\n",
      "Epoch 34/80\n",
      "1241/1241 [==============================] - 9s 7ms/sample - loss: 0.0035 - val_loss: 0.0068\n",
      "Epoch 35/80\n",
      "1241/1241 [==============================] - 8s 7ms/sample - loss: 0.0040 - val_loss: 0.0032\n",
      "Epoch 36/80\n",
      "1241/1241 [==============================] - 9s 7ms/sample - loss: 0.0043 - val_loss: 0.0051\n",
      "Epoch 37/80\n",
      "1241/1241 [==============================] - 9s 7ms/sample - loss: 0.0037 - val_loss: 0.0046\n",
      "Epoch 38/80\n",
      "1241/1241 [==============================] - 8s 7ms/sample - loss: 0.0033 - val_loss: 0.0101\n",
      "Epoch 39/80\n",
      "1241/1241 [==============================] - 8s 6ms/sample - loss: 0.0036 - val_loss: 0.0065\n",
      "Epoch 40/80\n",
      "1241/1241 [==============================] - 8s 7ms/sample - loss: 0.0036 - val_loss: 0.0044\n",
      "Epoch 41/80\n",
      "1241/1241 [==============================] - 8s 7ms/sample - loss: 0.0031 - val_loss: 0.0030\n",
      "Epoch 42/80\n",
      "1241/1241 [==============================] - 8s 6ms/sample - loss: 0.0029 - val_loss: 0.0047\n",
      "Epoch 43/80\n",
      "1241/1241 [==============================] - 8s 6ms/sample - loss: 0.0025 - val_loss: 0.0073\n",
      "Epoch 44/80\n",
      "1241/1241 [==============================] - 10s 8ms/sample - loss: 0.0032 - val_loss: 0.0044\n",
      "Epoch 45/80\n",
      "1241/1241 [==============================] - 8s 7ms/sample - loss: 0.0039 - val_loss: 0.0106\n",
      "Epoch 46/80\n",
      "1241/1241 [==============================] - 8s 7ms/sample - loss: 0.0078 - val_loss: 0.0373\n",
      "Epoch 47/80\n",
      "1241/1241 [==============================] - 9s 7ms/sample - loss: 0.0161 - val_loss: 0.0625\n",
      "Epoch 48/80\n",
      "1241/1241 [==============================] - 10s 8ms/sample - loss: 0.0107 - val_loss: 0.0046\n",
      "Epoch 49/80\n",
      "1241/1241 [==============================] - 10s 8ms/sample - loss: 0.0076 - val_loss: 0.0031\n",
      "Epoch 50/80\n",
      "1241/1241 [==============================] - 10s 8ms/sample - loss: 0.0048 - val_loss: 0.0029\n",
      "Epoch 51/80\n",
      "1241/1241 [==============================] - 8s 7ms/sample - loss: 0.0034 - val_loss: 0.0029\n",
      "Epoch 52/80\n",
      "1241/1241 [==============================] - 8s 6ms/sample - loss: 0.0034 - val_loss: 0.0058\n",
      "Epoch 53/80\n",
      "1241/1241 [==============================] - 10s 8ms/sample - loss: 0.0030 - val_loss: 0.0031\n",
      "Epoch 54/80\n",
      "1241/1241 [==============================] - 9s 7ms/sample - loss: 0.0031 - val_loss: 0.0034\n",
      "Epoch 55/80\n",
      "1241/1241 [==============================] - 16s 13ms/sample - loss: 0.0034 - val_loss: 0.0029\n",
      "Epoch 56/80\n",
      "1241/1241 [==============================] - 13s 10ms/sample - loss: 0.0031 - val_loss: 0.0040\n",
      "Epoch 57/80\n",
      "1241/1241 [==============================] - 11s 9ms/sample - loss: 0.0027 - val_loss: 0.0033\n",
      "Epoch 58/80\n",
      "1241/1241 [==============================] - 10s 8ms/sample - loss: 0.0031 - val_loss: 0.0048\n",
      "Epoch 59/80\n",
      "1241/1241 [==============================] - 16s 13ms/sample - loss: 0.0032 - val_loss: 0.0039\n",
      "Epoch 60/80\n",
      "1241/1241 [==============================] - 16s 13ms/sample - loss: 0.0026 - val_loss: 0.0061\n",
      "Epoch 61/80\n",
      "1241/1241 [==============================] - 11s 9ms/sample - loss: 0.0031 - val_loss: 0.0088\n",
      "Epoch 62/80\n",
      "1241/1241 [==============================] - 13s 10ms/sample - loss: 0.0031 - val_loss: 0.0042\n",
      "Epoch 63/80\n",
      "1241/1241 [==============================] - 10s 8ms/sample - loss: 0.0031 - val_loss: 0.0050\n",
      "Epoch 64/80\n",
      "1241/1241 [==============================] - 12s 10ms/sample - loss: 0.0027 - val_loss: 0.0033\n",
      "Epoch 65/80\n",
      "1241/1241 [==============================] - 9s 7ms/sample - loss: 0.0028 - val_loss: 0.0028\n",
      "Epoch 66/80\n",
      "1241/1241 [==============================] - 9s 8ms/sample - loss: 0.0026 - val_loss: 0.0049\n",
      "Epoch 67/80\n",
      "1241/1241 [==============================] - 15s 12ms/sample - loss: 0.0030 - val_loss: 0.0101\n",
      "Epoch 68/80\n",
      "1241/1241 [==============================] - 20s 17ms/sample - loss: 0.0024 - val_loss: 0.0069\n",
      "Epoch 69/80\n",
      "1241/1241 [==============================] - 14s 11ms/sample - loss: 0.0026 - val_loss: 0.0090\n",
      "Epoch 70/80\n",
      "1241/1241 [==============================] - 9s 8ms/sample - loss: 0.0035 - val_loss: 0.0054\n",
      "Epoch 71/80\n",
      "1241/1241 [==============================] - 10s 8ms/sample - loss: 0.0029 - val_loss: 0.0074\n",
      "Epoch 72/80\n",
      "1241/1241 [==============================] - 10s 8ms/sample - loss: 0.0034 - val_loss: 0.0030\n",
      "Epoch 73/80\n",
      "1241/1241 [==============================] - 8s 7ms/sample - loss: 0.0028 - val_loss: 0.0027\n",
      "Epoch 74/80\n",
      "1241/1241 [==============================] - 8s 7ms/sample - loss: 0.0029 - val_loss: 0.0057\n",
      "Epoch 75/80\n",
      "1241/1241 [==============================] - 8s 6ms/sample - loss: 0.0023 - val_loss: 0.0055\n",
      "Epoch 76/80\n",
      "1241/1241 [==============================] - 8s 6ms/sample - loss: 0.0023 - val_loss: 0.0034\n",
      "Epoch 77/80\n",
      "1241/1241 [==============================] - 8s 6ms/sample - loss: 0.0031 - val_loss: 0.0051\n",
      "Epoch 78/80\n"
     ]
    },
    {
     "name": "stdout",
     "output_type": "stream",
     "text": [
      "1241/1241 [==============================] - 8s 6ms/sample - loss: 0.0023 - val_loss: 0.0057\n",
      "Epoch 79/80\n",
      "1241/1241 [==============================] - 9s 7ms/sample - loss: 0.0022 - val_loss: 0.0095\n",
      "Epoch 80/80\n",
      "1241/1241 [==============================] - 10s 8ms/sample - loss: 0.0028 - val_loss: 0.0038\n"
     ]
    }
   ],
   "source": [
    "history = train_model(\n",
    "    model, \n",
    "    x_train, \n",
    "    y_train, \n",
    "    batch_size,\n",
    "    epochs, \n",
    "    \"./data/gru-model\")"
   ]
  },
  {
   "cell_type": "code",
   "execution_count": 35,
   "metadata": {},
   "outputs": [],
   "source": [
    "def plot_model_loss(history):\n",
    "    plt.figure(figsize=(25, 13))\n",
    "    plt.subplot(311)\n",
    "    plt.plot(history.epoch, history.history[\"loss\"])\n",
    "    plt.plot(history.epoch, history.history[\"val_loss\"])\n",
    "    plt.xlabel(\"Number of Epochs\")\n",
    "    plt.ylabel(\"Loss\")\n",
    "    plt.title(\"Model Behaviour\")\n",
    "    plt.legend([\"loss\", \"val_loss\"])\n",
    "    "
   ]
  },
  {
   "cell_type": "code",
   "execution_count": 36,
   "metadata": {},
   "outputs": [
    {
     "data": {
      "image/png": "[encoded data removed]",
      "text/plain": [
       "<Figure size 1800x936 with 1 Axes>"
      ]
     },
     "metadata": {},
     "output_type": "display_data"
    }
   ],
   "source": [
    "plot_model_loss(history)"
   ]
  },
  {
   "cell_type": "code",
   "execution_count": 37,
   "metadata": {},
   "outputs": [],
   "source": [
    "model = load_model(\"./data/gru-model\")"
   ]
  },
  {
   "cell_type": "code",
   "execution_count": 38,
   "metadata": {},
   "outputs": [],
   "source": [
    "predictions = model.predict(x_test)"
   ]
  },
  {
   "cell_type": "code",
   "execution_count": 39,
   "metadata": {},
   "outputs": [
    {
     "name": "stdout",
     "output_type": "stream",
     "text": [
      "Train Score: 0.01219 MSE (0.11 RMSE)\n"
     ]
    }
   ],
   "source": [
    "trainScore = model.evaluate(x_train, y_train, verbose=0)\n",
    "print('Train Score: %.5f MSE (%.2f RMSE)' % (trainScore, math.sqrt(trainScore)))"
   ]
  },
  {
   "cell_type": "code",
   "execution_count": 40,
   "metadata": {},
   "outputs": [
    {
     "name": "stdout",
     "output_type": "stream",
     "text": [
      "Test Score: 0.00672 MSE (0.08 RMSE)\n"
     ]
    }
   ],
   "source": [
    "testScore = model.evaluate(x_test, y_test, verbose=0)\n",
    "print('Test Score: %.5f MSE (%.2f RMSE)' % (testScore, math.sqrt(testScore)))"
   ]
  },
  {
   "cell_type": "code",
   "execution_count": 41,
   "metadata": {},
   "outputs": [],
   "source": [
    "def plot_results_against_true_data(tested_data, true_data):\n",
    "    plt.figure(figsize = (15,6))\n",
    "    # style\n",
    "    plt.style.use('seaborn-darkgrid')\n",
    "    # create a color palette\n",
    "    palette = plt.get_cmap('Set1')\n",
    "    plt.plot(\n",
    "        range(len(tested_data)), \n",
    "        tested_data, \n",
    "        marker='', \n",
    "        color=\"blue\", \n",
    "        linewidth=0.5, \n",
    "        alpha=1, \n",
    "        label=\"Predicted Data\"\n",
    "    )\n",
    "\n",
    "    plt.plot(\n",
    "        range(len(true_data)), \n",
    "        true_data, \n",
    "        marker='', \n",
    "        color=\"black\", \n",
    "        linewidth=0.5, \n",
    "        alpha=0.3, \n",
    "        label=\"Real Data\"\n",
    "    )\n",
    "\n",
    "    plt.legend(loc=2, ncol=2)\n",
    "    plt.title(\"Results comparison\", loc='left', fontsize=12, fontweight=0, color='orange')\n",
    "    plt.xlabel(\"Hours\")\n",
    "    plt.ylabel(\"Price\")\n",
    "    plt.show()"
   ]
  },
  {
   "cell_type": "code",
   "execution_count": 42,
   "metadata": {},
   "outputs": [
    {
     "data": {
      "image/png": "[encoded data removed]",
      "text/plain": [
       "<Figure size 1080x432 with 1 Axes>"
      ]
     },
     "metadata": {},
     "output_type": "display_data"
    }
   ],
   "source": [
    "plot_results_against_true_data(predictions, y_test)"
   ]
  }
 ],
 "metadata": {
  "kernelspec": {
   "display_name": "Python 3",
   "language": "python",
   "name": "python3"
  },
  "language_info": {
   "codemirror_mode": {
    "name": "ipython",
    "version": 3
   },
   "file_extension": ".py",
   "mimetype": "text/x-python",
   "name": "python",
   "nbconvert_exporter": "python",
   "pygments_lexer": "ipython3",
   "version": "3.6.8"
  }
 },
 "nbformat": 4,
 "nbformat_minor": 2
}
